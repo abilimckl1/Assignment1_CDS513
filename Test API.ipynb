{
 "cells": [
  {
   "cell_type": "code",
   "execution_count": 1,
   "id": "a6d05eed",
   "metadata": {},
   "outputs": [],
   "source": [
    "import requests\n",
    "import pandas as pd\n",
    "import time"
   ]
  },
  {
   "cell_type": "code",
   "execution_count": 79,
   "id": "b4adeedc",
   "metadata": {},
   "outputs": [],
   "source": []
  },
  {
   "cell_type": "code",
   "execution_count": 5,
   "id": "186caaf5",
   "metadata": {},
   "outputs": [],
   "source": [
    "# IGDB API endpoint for games\n",
    "url = 'https://api.igdb.com/v4/games'\n",
    "client_id = 'sxiuj4y04yliue4d66h7dkoxt3sjjf'\n",
    "access_token = 'ho99rm814hddmzvmzfedoftp2igx32'\n",
    "headers = {\n",
    "    'Client-ID': client_id,\n",
    "    'Authorization': f'Bearer {access_token}',\n",
    "    'Accept': 'application/json'\n",
    "}"
   ]
  },
  {
   "cell_type": "code",
   "execution_count": 13,
   "id": "244d5005",
   "metadata": {},
   "outputs": [],
   "source": [
    "def get_genres(game_titles):\n",
    "    # Join the game titles into a string formatted for the query\n",
    "    titles_query = ','.join(f'\"{title}\"' for title in game_titles)  # creates \"title1\",\"title2\", etc.\n",
    "    \n",
    "    # Create the body using proper string formatting\n",
    "    body = f'fields name, genres.name; where name=({titles_query});'\n",
    "    \n",
    "    # Make the request\n",
    "    response = requests.post(url, headers=headers, data=body)\n",
    "    \n",
    "    # Check for a valid response\n",
    "    if response.status_code == 200:\n",
    "        games_data = response.json()\n",
    "        # Create a dictionary with game names as keys and list of genre names as values\n",
    "        genre_dict = {game['name']: [genre['name'] for genre in game.get('genres', [])] for game in games_data}\n",
    "              \n",
    "        return genre_dict\n",
    "        \n",
    "    else:\n",
    "        print(f'Failed to retrieve data: {response.status_code}')\n",
    "        return {}\n",
    "    "
   ]
  },
  {
   "cell_type": "code",
   "execution_count": 19,
   "id": "6af95d12",
   "metadata": {},
   "outputs": [
    {
     "data": {
      "text/plain": [
       "{'Cities: Skylines': ['Simulator', 'Strategy']}"
      ]
     },
     "execution_count": 19,
     "metadata": {},
     "output_type": "execute_result"
    }
   ],
   "source": [
    "# Example list of game titles\n",
    "game_titles = ['Cities: Skylines', 'Counter-Strike: Source']\n",
    "\n",
    "# Create a DataFrame\n",
    "df = pd.DataFrame(game_titles, columns=['Game Title'])\n",
    "\n",
    "genres_dict = get_genres(game_titles)\n",
    "genres_dict"
   ]
  },
  {
   "cell_type": "code",
   "execution_count": null,
   "id": "a4de41ec",
   "metadata": {},
   "outputs": [],
   "source": []
  },
  {
   "cell_type": "code",
   "execution_count": 100,
   "id": "91f4f160",
   "metadata": {},
   "outputs": [
    {
     "data": {
      "text/plain": [
       "'\"The Elder Scrolls V: Skyrim\",\"The Witcher\",\"Dota 2\",\"Cyberpunk 2077\",\"God of War\",\"Elden Ring\"'"
      ]
     },
     "execution_count": 100,
     "metadata": {},
     "output_type": "execute_result"
    }
   ],
   "source": [
    "titles_query = ','.join(f'\"{title}\"' for title in game_titles)\n",
    "titles_query"
   ]
  },
  {
   "cell_type": "code",
   "execution_count": 90,
   "id": "0d2d9ea4",
   "metadata": {},
   "outputs": [
    {
     "data": {
      "text/html": [
       "<div>\n",
       "<style scoped>\n",
       "    .dataframe tbody tr th:only-of-type {\n",
       "        vertical-align: middle;\n",
       "    }\n",
       "\n",
       "    .dataframe tbody tr th {\n",
       "        vertical-align: top;\n",
       "    }\n",
       "\n",
       "    .dataframe thead th {\n",
       "        text-align: right;\n",
       "    }\n",
       "</style>\n",
       "<table border=\"1\" class=\"dataframe\">\n",
       "  <thead>\n",
       "    <tr style=\"text-align: right;\">\n",
       "      <th></th>\n",
       "      <th>Game Title</th>\n",
       "    </tr>\n",
       "  </thead>\n",
       "  <tbody>\n",
       "    <tr>\n",
       "      <th>0</th>\n",
       "      <td>The Witcher</td>\n",
       "    </tr>\n",
       "    <tr>\n",
       "      <th>1</th>\n",
       "      <td>Dota 2</td>\n",
       "    </tr>\n",
       "    <tr>\n",
       "      <th>2</th>\n",
       "      <td>Cyberpunk 2077</td>\n",
       "    </tr>\n",
       "    <tr>\n",
       "      <th>3</th>\n",
       "      <td>God of War</td>\n",
       "    </tr>\n",
       "    <tr>\n",
       "      <th>4</th>\n",
       "      <td>Elden Ring</td>\n",
       "    </tr>\n",
       "    <tr>\n",
       "      <th>5</th>\n",
       "      <td>The Elder Scroll V: Skyrim</td>\n",
       "    </tr>\n",
       "  </tbody>\n",
       "</table>\n",
       "</div>"
      ],
      "text/plain": [
       "                   Game Title\n",
       "0                 The Witcher\n",
       "1                      Dota 2\n",
       "2              Cyberpunk 2077\n",
       "3                  God of War\n",
       "4                  Elden Ring\n",
       "5  The Elder Scroll V: Skyrim"
      ]
     },
     "execution_count": 90,
     "metadata": {},
     "output_type": "execute_result"
    }
   ],
   "source": [
    "df"
   ]
  },
  {
   "cell_type": "code",
   "execution_count": 109,
   "id": "f9b20f38",
   "metadata": {},
   "outputs": [],
   "source": [
    "import time\n",
    "import requests\n",
    "\n",
    "def get_all_genres(game_titles):\n",
    "    # Initialize variables to handle pagination\n",
    "    limit = 500  # Set a high limit per page, adjust based on what the API supports\n",
    "    offset = 0\n",
    "    all_games_data = []\n",
    "\n",
    "    while True:\n",
    "        # Join the game titles into a string formatted for the query\n",
    "        titles_query = ','.join(f'\"{title}\"' for title in game_titles)\n",
    "        \n",
    "        # Create the body using proper string formatting with pagination\n",
    "        body = f'fields name, genres.name; where name=({titles_query}); limit {limit}; offset {offset};'\n",
    "        \n",
    "        # Make the request\n",
    "        response = requests.post(url, headers=headers, data=body)\n",
    "        \n",
    "        # Check for a valid response\n",
    "        if response.status_code == 200:\n",
    "            games_data = response.json()\n",
    "            all_games_data.extend(games_data)\n",
    "            \n",
    "            # Check if fewer results than the limit were returned; if so, break the loop\n",
    "            if len(games_data) < limit:\n",
    "                break\n",
    "\n",
    "            # Increment the offset for the next page\n",
    "            offset += limit\n",
    "        else:\n",
    "            print(f'Failed to retrieve data: {response.status_code}')\n",
    "            break\n",
    "\n",
    "        # Delay to respect API rate limit\n",
    "        time.sleep(1)\n",
    "    \n",
    "    # Aggregate the results\n",
    "    return {game['name']: [genre['name'] for genre in game.get('genres', [])] for game in all_games_data}\n"
   ]
  },
  {
   "cell_type": "code",
   "execution_count": 110,
   "id": "b9f82514",
   "metadata": {},
   "outputs": [
    {
     "data": {
      "text/plain": [
       "{'God of War': ['Puzzle', \"Hack and slash/Beat 'em up\", 'Adventure'],\n",
       " 'The Witcher': ['Role-playing (RPG)', 'Adventure'],\n",
       " 'Dota 2': ['Strategy', 'MOBA'],\n",
       " 'The Elder Scrolls V: Skyrim': ['Role-playing (RPG)', 'Adventure'],\n",
       " 'Elden Ring': ['Role-playing (RPG)', 'Adventure'],\n",
       " 'Cyberpunk 2077': ['Shooter', 'Role-playing (RPG)', 'Adventure']}"
      ]
     },
     "execution_count": 110,
     "metadata": {},
     "output_type": "execute_result"
    }
   ],
   "source": [
    "genres_dict = get_all_genres(game_titles)\n",
    "genres_dict"
   ]
  },
  {
   "cell_type": "code",
   "execution_count": 22,
   "id": "26d9904d",
   "metadata": {},
   "outputs": [],
   "source": [
    "def search_game(title):\n",
    "    url = 'https://api.igdb.com/v4/games'\n",
    "    headers = {\n",
    "        'Client-ID': client_id,\n",
    "        'Authorization': f'Bearer {access_token}'\n",
    "    }\n",
    "    # Simplify and normalize the title for the search query\n",
    "    body = f'search \"{title}\"; fields name, genres.name; limit 1;'\n",
    "    \n",
    "    response = requests.post(url, headers=headers, data=body)\n",
    "    if response.status_code == 200:\n",
    "        data = response.json()\n",
    "        if data:\n",
    "            return data[0]['genres'][0]['name'] if 'genres' in data[0] and data[0]['genres'] else 'Genre not found'\n",
    "        else:\n",
    "            return 'No match found'\n",
    "    else:\n",
    "        print(f'API request failed with status code {response.status_code}')\n",
    "        return 'API request failed'"
   ]
  },
  {
   "cell_type": "code",
   "execution_count": 25,
   "id": "f95433ed",
   "metadata": {},
   "outputs": [
    {
     "name": "stdout",
     "output_type": "stream",
     "text": [
      "Simulator\n"
     ]
    }
   ],
   "source": [
    "print(search_game('Cities SkyLine'))"
   ]
  },
  {
   "cell_type": "code",
   "execution_count": null,
   "id": "d486d28d",
   "metadata": {},
   "outputs": [],
   "source": []
  }
 ],
 "metadata": {
  "kernelspec": {
   "display_name": "Python 3 (ipykernel)",
   "language": "python",
   "name": "python3"
  },
  "language_info": {
   "codemirror_mode": {
    "name": "ipython",
    "version": 3
   },
   "file_extension": ".py",
   "mimetype": "text/x-python",
   "name": "python",
   "nbconvert_exporter": "python",
   "pygments_lexer": "ipython3",
   "version": "3.10.9"
  }
 },
 "nbformat": 4,
 "nbformat_minor": 5
}
